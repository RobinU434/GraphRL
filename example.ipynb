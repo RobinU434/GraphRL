{
 "cells": [
  {
   "cell_type": "code",
   "execution_count": 8,
   "metadata": {},
   "outputs": [],
   "source": [
    "import igraph as ig\n",
    "import numpy as np\n",
    "from graph_rl.environment.graph_navigation import GraphNavigationEnv\n",
    "from graph_rl.reward_function.reward_function import ShortestPathReward\n",
    "from graph_rl.graph.extended_graph import ExtendedGraph\n",
    "import networkx as nx\n",
    "\n",
    "try:\n",
    "    from stable_baselines3 import PPO\n",
    "    from stable_baselines3.common.env_checker import check_env\n",
    "except ImportError:\n",
    "        print(\"stable-baselines3 not installed. Run: pip install stable-baselines3\")\n",
    "    "
   ]
  },
  {
   "cell_type": "code",
   "execution_count": 9,
   "metadata": {},
   "outputs": [],
   "source": [
    "def create_sample_graph() -> ExtendedGraph:\n",
    "    \"\"\"Create a sample graph for demonstration.\"\"\"\n",
    "    g = ExtendedGraph(directed=False, node_feature_dim=4, edge_feature_dim=2)\n",
    "    # Add 10 vertices\n",
    "    g.add_vertices(10)\n",
    "    \n",
    "    # Add some random edges\n",
    "    edges = [\n",
    "        (0, 1), (0, 2), (1, 3), (1, 4), (2, 5),\n",
    "        (3, 6), (4, 7), (5, 8), (6, 9), (7, 9),\n",
    "        (8, 9), (2, 3), (4, 5), (1, 5), (3, 7)\n",
    "    ]\n",
    "    g.add_edges(edges)\n",
    "    \n",
    "\n",
    "    # Generate node and embeddings. \n",
    "    # Usually those embeddings are a result aggregated information of node / edge features\n",
    "    # here we only care about the numbers\n",
    "    \n",
    "    # To make the example a bit more expressive we add also a node feature vector which is usually of a\n",
    "    # higher dimension compared to the embedding dimension\n",
    "\n",
    "    # Generate node embeddings\n",
    "    for i in range(10):\n",
    "        g.vs[i][\"features\"] = np.random.randn(g.node_feature_dim)\n",
    "\n",
    "    # Generate edge features\n",
    "    for edge in g.es:\n",
    "        edge[\"features\"] = np.random.randn(g.edge_feature_dim)\n",
    "\n",
    "    # Add random weights to edges\n",
    "    g.es['weight'] = np.random.uniform(0.1, 2.0, g.ecount())\n",
    "    \n",
    "    # Add custom node attributes\n",
    "    g.vs['type'] = np.random.choice(['A', 'B', 'C'], g.vcount())\n",
    "    \n",
    "    return g\n",
    "\n",
    "\n",
    "# Example usage with stable-baselines3\n",
    "def train_with_stable_baselines(env, total_timesteps=10000):\n",
    "    \"\"\"Example of how to use this environment with stable-baselines3.\"\"\"\n",
    "        \n",
    "    # First, check if the environment is valid\n",
    "    check_env(env)\n",
    "    \n",
    "    # Create the model\n",
    "    model = PPO(\"MultiInputPolicy\", env, verbose=1)\n",
    "    \n",
    "    # Train the agent\n",
    "    model.learn(total_timesteps=total_timesteps)\n",
    "    \n",
    "    # Save the model\n",
    "    model.save(\"ppo_graph_navigation\")\n",
    "    \n",
    "    print(\"Model trained and saved successfully!\")\n",
    "    return model\n"
   ]
  },
  {
   "cell_type": "code",
   "execution_count": 10,
   "metadata": {},
   "outputs": [],
   "source": [
    "# Create sample graph\n",
    "sample_graph = create_sample_graph()\n",
    "\n",
    "# Create custom reward function\n",
    "target_node = 9  # We want to reach node 9\n",
    "reward_func = ShortestPathReward(target_node=target_node)\n",
    "\n",
    "# Create environment\n",
    "env = GraphNavigationEnv(\n",
    "    graph=sample_graph,\n",
    "    reward_function=reward_func,\n",
    "    max_steps=20,\n",
    "    transition_noise=0.1,  # 10% chance of random transition\n",
    "    render_mode='console',\n",
    "    observation_mode='dict'  # Use dict mode for easier debugging\n",
    ")\n"
   ]
  },
  {
   "cell_type": "code",
   "execution_count": 11,
   "metadata": {},
   "outputs": [
    {
     "data": {
      "image/svg+xml": [
       "<?xml version=\"1.0\" encoding=\"UTF-8\"?>\n",
       "<svg xmlns=\"http://www.w3.org/2000/svg\" xmlns:xlink=\"http://www.w3.org/1999/xlink\" width=\"400\" height=\"400\" viewBox=\"0 0 400 400\">\n",
       "<rect x=\"-40\" y=\"-40\" width=\"480\" height=\"480\" fill=\"rgb(100%, 100%, 100%)\" fill-opacity=\"1\"/>\n",
       "<path fill=\"none\" stroke-width=\"0.5\" stroke-linecap=\"butt\" stroke-linejoin=\"miter\" stroke=\"rgb(26.666667%, 26.666667%, 26.666667%)\" stroke-opacity=\"1\" stroke-miterlimit=\"10\" d=\"M 360 360 L 295.570312 253.675781 \"/>\n",
       "<path fill=\"none\" stroke-width=\"0.5\" stroke-linecap=\"butt\" stroke-linejoin=\"miter\" stroke=\"rgb(26.666667%, 26.666667%, 26.666667%)\" stroke-opacity=\"1\" stroke-miterlimit=\"10\" d=\"M 360 360 L 260.945312 305.429688 \"/>\n",
       "<path fill=\"none\" stroke-width=\"0.5\" stroke-linecap=\"butt\" stroke-linejoin=\"miter\" stroke=\"rgb(26.666667%, 26.666667%, 26.666667%)\" stroke-opacity=\"1\" stroke-miterlimit=\"10\" d=\"M 295.570312 253.675781 L 146.730469 268.449219 \"/>\n",
       "<path fill=\"none\" stroke-width=\"0.5\" stroke-linecap=\"butt\" stroke-linejoin=\"miter\" stroke=\"rgb(26.666667%, 26.666667%, 26.666667%)\" stroke-opacity=\"1\" stroke-miterlimit=\"10\" d=\"M 295.570312 253.675781 L 261.410156 148.632812 \"/>\n",
       "<path fill=\"none\" stroke-width=\"0.5\" stroke-linecap=\"butt\" stroke-linejoin=\"miter\" stroke=\"rgb(26.666667%, 26.666667%, 26.666667%)\" stroke-opacity=\"1\" stroke-miterlimit=\"10\" d=\"M 260.945312 305.429688 L 342.652344 163.441406 \"/>\n",
       "<path fill=\"none\" stroke-width=\"0.5\" stroke-linecap=\"butt\" stroke-linejoin=\"miter\" stroke=\"rgb(26.666667%, 26.666667%, 26.666667%)\" stroke-opacity=\"1\" stroke-miterlimit=\"10\" d=\"M 146.730469 268.449219 L 40 182.390625 \"/>\n",
       "<path fill=\"none\" stroke-width=\"0.5\" stroke-linecap=\"butt\" stroke-linejoin=\"miter\" stroke=\"rgb(26.666667%, 26.666667%, 26.666667%)\" stroke-opacity=\"1\" stroke-miterlimit=\"10\" d=\"M 261.410156 148.632812 L 139.945312 152.195312 \"/>\n",
       "<path fill=\"none\" stroke-width=\"0.5\" stroke-linecap=\"butt\" stroke-linejoin=\"miter\" stroke=\"rgb(26.666667%, 26.666667%, 26.666667%)\" stroke-opacity=\"1\" stroke-miterlimit=\"10\" d=\"M 342.652344 163.441406 L 254.269531 40 \"/>\n",
       "<path fill=\"none\" stroke-width=\"0.5\" stroke-linecap=\"butt\" stroke-linejoin=\"miter\" stroke=\"rgb(26.666667%, 26.666667%, 26.666667%)\" stroke-opacity=\"1\" stroke-miterlimit=\"10\" d=\"M 40 182.390625 L 105.601562 54.855469 \"/>\n",
       "<path fill=\"none\" stroke-width=\"0.5\" stroke-linecap=\"butt\" stroke-linejoin=\"miter\" stroke=\"rgb(26.666667%, 26.666667%, 26.666667%)\" stroke-opacity=\"1\" stroke-miterlimit=\"10\" d=\"M 139.945312 152.195312 L 105.601562 54.855469 \"/>\n",
       "<path fill=\"none\" stroke-width=\"0.5\" stroke-linecap=\"butt\" stroke-linejoin=\"miter\" stroke=\"rgb(26.666667%, 26.666667%, 26.666667%)\" stroke-opacity=\"1\" stroke-miterlimit=\"10\" d=\"M 254.269531 40 L 105.601562 54.855469 \"/>\n",
       "<path fill=\"none\" stroke-width=\"0.5\" stroke-linecap=\"butt\" stroke-linejoin=\"miter\" stroke=\"rgb(26.666667%, 26.666667%, 26.666667%)\" stroke-opacity=\"1\" stroke-miterlimit=\"10\" d=\"M 260.945312 305.429688 L 146.730469 268.449219 \"/>\n",
       "<path fill=\"none\" stroke-width=\"0.5\" stroke-linecap=\"butt\" stroke-linejoin=\"miter\" stroke=\"rgb(26.666667%, 26.666667%, 26.666667%)\" stroke-opacity=\"1\" stroke-miterlimit=\"10\" d=\"M 261.410156 148.632812 L 342.652344 163.441406 \"/>\n",
       "<path fill=\"none\" stroke-width=\"0.5\" stroke-linecap=\"butt\" stroke-linejoin=\"miter\" stroke=\"rgb(26.666667%, 26.666667%, 26.666667%)\" stroke-opacity=\"1\" stroke-miterlimit=\"10\" d=\"M 295.570312 253.675781 L 342.652344 163.441406 \"/>\n",
       "<path fill=\"none\" stroke-width=\"0.5\" stroke-linecap=\"butt\" stroke-linejoin=\"miter\" stroke=\"rgb(26.666667%, 26.666667%, 26.666667%)\" stroke-opacity=\"1\" stroke-miterlimit=\"10\" d=\"M 146.730469 268.449219 L 139.945312 152.195312 \"/>\n",
       "<path fill-rule=\"nonzero\" fill=\"rgb(100%, 0%, 0%)\" fill-opacity=\"1\" stroke-width=\"1\" stroke-linecap=\"butt\" stroke-linejoin=\"miter\" stroke=\"rgb(0%, 0%, 0%)\" stroke-opacity=\"1\" stroke-miterlimit=\"10\" d=\"M 365 360 C 365 366.667969 355 366.667969 355 360 C 355 353.332031 365 353.332031 365 360 \"/>\n",
       "<path fill-rule=\"nonzero\" fill=\"rgb(100%, 0%, 0%)\" fill-opacity=\"1\" stroke-width=\"1\" stroke-linecap=\"butt\" stroke-linejoin=\"miter\" stroke=\"rgb(0%, 0%, 0%)\" stroke-opacity=\"1\" stroke-miterlimit=\"10\" d=\"M 300.570312 253.675781 C 300.570312 260.34375 290.570312 260.34375 290.570312 253.675781 C 290.570312 247.011719 300.570312 247.011719 300.570312 253.675781 \"/>\n",
       "<path fill-rule=\"nonzero\" fill=\"rgb(100%, 0%, 0%)\" fill-opacity=\"1\" stroke-width=\"1\" stroke-linecap=\"butt\" stroke-linejoin=\"miter\" stroke=\"rgb(0%, 0%, 0%)\" stroke-opacity=\"1\" stroke-miterlimit=\"10\" d=\"M 265.945312 305.429688 C 265.945312 312.09375 255.945312 312.09375 255.945312 305.429688 C 255.945312 298.761719 265.945312 298.761719 265.945312 305.429688 \"/>\n",
       "<path fill-rule=\"nonzero\" fill=\"rgb(100%, 0%, 0%)\" fill-opacity=\"1\" stroke-width=\"1\" stroke-linecap=\"butt\" stroke-linejoin=\"miter\" stroke=\"rgb(0%, 0%, 0%)\" stroke-opacity=\"1\" stroke-miterlimit=\"10\" d=\"M 151.730469 268.449219 C 151.730469 275.117188 141.730469 275.117188 141.730469 268.449219 C 141.730469 261.785156 151.730469 261.785156 151.730469 268.449219 \"/>\n",
       "<path fill-rule=\"nonzero\" fill=\"rgb(100%, 0%, 0%)\" fill-opacity=\"1\" stroke-width=\"1\" stroke-linecap=\"butt\" stroke-linejoin=\"miter\" stroke=\"rgb(0%, 0%, 0%)\" stroke-opacity=\"1\" stroke-miterlimit=\"10\" d=\"M 266.410156 148.632812 C 266.410156 155.300781 256.410156 155.300781 256.410156 148.632812 C 256.410156 141.96875 266.410156 141.96875 266.410156 148.632812 \"/>\n",
       "<path fill-rule=\"nonzero\" fill=\"rgb(100%, 0%, 0%)\" fill-opacity=\"1\" stroke-width=\"1\" stroke-linecap=\"butt\" stroke-linejoin=\"miter\" stroke=\"rgb(0%, 0%, 0%)\" stroke-opacity=\"1\" stroke-miterlimit=\"10\" d=\"M 347.652344 163.441406 C 347.652344 170.105469 337.652344 170.105469 337.652344 163.441406 C 337.652344 156.773438 347.652344 156.773438 347.652344 163.441406 \"/>\n",
       "<path fill-rule=\"nonzero\" fill=\"rgb(100%, 0%, 0%)\" fill-opacity=\"1\" stroke-width=\"1\" stroke-linecap=\"butt\" stroke-linejoin=\"miter\" stroke=\"rgb(0%, 0%, 0%)\" stroke-opacity=\"1\" stroke-miterlimit=\"10\" d=\"M 45 182.390625 C 45 189.054688 35 189.054688 35 182.390625 C 35 175.722656 45 175.722656 45 182.390625 \"/>\n",
       "<path fill-rule=\"nonzero\" fill=\"rgb(100%, 0%, 0%)\" fill-opacity=\"1\" stroke-width=\"1\" stroke-linecap=\"butt\" stroke-linejoin=\"miter\" stroke=\"rgb(0%, 0%, 0%)\" stroke-opacity=\"1\" stroke-miterlimit=\"10\" d=\"M 144.945312 152.195312 C 144.945312 158.859375 134.945312 158.859375 134.945312 152.195312 C 134.945312 145.527344 144.945312 145.527344 144.945312 152.195312 \"/>\n",
       "<path fill-rule=\"nonzero\" fill=\"rgb(100%, 0%, 0%)\" fill-opacity=\"1\" stroke-width=\"1\" stroke-linecap=\"butt\" stroke-linejoin=\"miter\" stroke=\"rgb(0%, 0%, 0%)\" stroke-opacity=\"1\" stroke-miterlimit=\"10\" d=\"M 259.269531 40 C 259.269531 46.667969 249.269531 46.667969 249.269531 40 C 249.269531 33.332031 259.269531 33.332031 259.269531 40 \"/>\n",
       "<path fill-rule=\"nonzero\" fill=\"rgb(100%, 0%, 0%)\" fill-opacity=\"1\" stroke-width=\"1\" stroke-linecap=\"butt\" stroke-linejoin=\"miter\" stroke=\"rgb(0%, 0%, 0%)\" stroke-opacity=\"1\" stroke-miterlimit=\"10\" d=\"M 110.601562 54.855469 C 110.601562 61.519531 100.601562 61.519531 100.601562 54.855469 C 100.601562 48.1875 110.601562 48.1875 110.601562 54.855469 \"/>\n",
       "</svg>\n"
      ],
      "text/plain": [
       "<igraph.drawing.cairo.plot.CairoPlot at 0x77c304f506b0>"
      ]
     },
     "execution_count": 11,
     "metadata": {
      "image/svg+xml": {
       "isolated": true
      }
     },
     "output_type": "execute_result"
    }
   ],
   "source": [
    "sample_graph.plot()"
   ]
  },
  {
   "cell_type": "code",
   "execution_count": 12,
   "metadata": {},
   "outputs": [
    {
     "name": "stdout",
     "output_type": "stream",
     "text": [
      "Starting navigation from node 6 to target node 9\n",
      "Current Node: 6\n",
      "Node Attributes: {'features': array([2.49042636, 1.06529284, 0.96011342, 1.27766207]), 'type': np.str_('B')}\n",
      "Available Actions: 2\n",
      "  Action 0: -> Node 3 (Edge 5, Weight: 0.3244353159040415)\n",
      "  Action 1: -> Node 9 (Edge 8, Weight: 0.5449451542661046)\n",
      "Steps Taken: 0/20\n",
      "\n",
      "Took action: 1\n",
      "Reward: 8.94550548457339\n",
      "Current Node: 9\n",
      "Node Attributes: {'features': array([ 0.16771926,  0.88834999,  0.64288107, -0.64247708]), 'type': np.str_('C')}\n",
      "Available Actions: 3\n",
      "  Action 0: -> Node 6 (Edge 8, Weight: 0.5449451542661046)\n",
      "  Action 1: -> Node 7 (Edge 9, Weight: 1.4699758642212315)\n",
      "  Action 2: -> Node 8 (Edge 10, Weight: 0.9815380072436315)\n",
      "Steps Taken: 1/20\n",
      "\n",
      "Took action: 0\n",
      "Reward: 8.94550548457339\n",
      "Current Node: 9\n",
      "Node Attributes: {'features': array([ 0.16771926,  0.88834999,  0.64288107, -0.64247708]), 'type': np.str_('C')}\n",
      "Available Actions: 3\n",
      "  Action 0: -> Node 6 (Edge 8, Weight: 0.5449451542661046)\n",
      "  Action 1: -> Node 7 (Edge 9, Weight: 1.4699758642212315)\n",
      "  Action 2: -> Node 8 (Edge 10, Weight: 0.9815380072436315)\n",
      "Steps Taken: 2/20\n",
      "\n",
      "Episode finished!\n",
      "Total reward: 17.89101096914678\n",
      "Reached node 9\n",
      "Target was node 9\n"
     ]
    }
   ],
   "source": [
    "# Run a simple random agent as example\n",
    "observation, info = env.reset(seed=42)\n",
    "total_reward = 0\n",
    "\n",
    "print(\"Starting navigation from node\", env.current_node, \"to target node\", target_node)\n",
    "env.render()\n",
    "\n",
    "for _ in range(env.max_steps):\n",
    "    # Get random action\n",
    "    action = env.action_space.sample()\n",
    "    \n",
    "    # Take step\n",
    "    observation, reward, terminated, truncated, info = env.step(action)\n",
    "    total_reward += reward\n",
    "\n",
    "    print(\"\\nTook action:\", action)\n",
    "    print(\"Reward:\", reward)\n",
    "    env.render()\n",
    "    \n",
    "    if terminated or truncated:\n",
    "        print(\"\\nEpisode finished!\")\n",
    "        break\n",
    "\n",
    "print(f\"Total reward: {total_reward}\")\n",
    "print(f\"Reached node {env.current_node}\")\n",
    "print(f\"Target was node {target_node}\")\n",
    "\n",
    "# Uncomment to train with stable-baselines3\n",
    "# model = train_with_stable_baselines(env)"
   ]
  },
  {
   "cell_type": "markdown",
   "metadata": {},
   "source": [
    "# Generate Graphs\n",
    "\n",
    "Or you can generate graphs from the implemented generators"
   ]
  },
  {
   "cell_type": "code",
   "execution_count": null,
   "metadata": {},
   "outputs": [
    {
     "name": "stdout",
     "output_type": "stream",
     "text": [
      "9\n",
      "{'current_node': 3, 'node_features': array([-0.53181741, -0.1174755 ,  0.2220789 , -0.7679765 ]), 'neighbors': array([0, 1, 4, 7, 8, 9, 0, 0], dtype=int32), 'edge_features': array([[ 0.78553212,  2.65601009],\n",
      "       [ 0.26348604,  1.64177112],\n",
      "       [-0.84341992, -0.51332541],\n",
      "       [-1.57415529,  0.63795294],\n",
      "       [-1.38071702, -0.28080629],\n",
      "       [-1.41859646,  0.19033698],\n",
      "       [ 0.        ,  0.        ],\n",
      "       [ 0.        ,  0.        ]]), 'valid_actions': array([1, 1, 1, 1, 1, 1, 0, 0], dtype=int8), 'weights': array([1., 1., 1., 1., 1., 1., 0., 0.])}\n"
     ]
    },
    {
     "data": {
      "image/svg+xml": [
       "<?xml version=\"1.0\" encoding=\"UTF-8\"?>\n",
       "<svg xmlns=\"http://www.w3.org/2000/svg\" xmlns:xlink=\"http://www.w3.org/1999/xlink\" width=\"400\" height=\"400\" viewBox=\"0 0 400 400\">\n",
       "<rect x=\"-40\" y=\"-40\" width=\"480\" height=\"480\" fill=\"rgb(100%, 100%, 100%)\" fill-opacity=\"1\"/>\n",
       "<path fill=\"none\" stroke-width=\"0.5\" stroke-linecap=\"butt\" stroke-linejoin=\"miter\" stroke=\"rgb(26.666667%, 26.666667%, 26.666667%)\" stroke-opacity=\"1\" stroke-miterlimit=\"10\" d=\"M 231.050781 318.773438 L 129.34375 360 \"/>\n",
       "<path fill=\"none\" stroke-width=\"0.5\" stroke-linecap=\"butt\" stroke-linejoin=\"miter\" stroke=\"rgb(26.666667%, 26.666667%, 26.666667%)\" stroke-opacity=\"1\" stroke-miterlimit=\"10\" d=\"M 258.984375 60.015625 L 312.28125 172.902344 \"/>\n",
       "<path fill=\"none\" stroke-width=\"0.5\" stroke-linecap=\"butt\" stroke-linejoin=\"miter\" stroke=\"rgb(26.666667%, 26.666667%, 26.666667%)\" stroke-opacity=\"1\" stroke-miterlimit=\"10\" d=\"M 231.050781 318.773438 L 312.28125 172.902344 \"/>\n",
       "<path fill=\"none\" stroke-width=\"0.5\" stroke-linecap=\"butt\" stroke-linejoin=\"miter\" stroke=\"rgb(26.666667%, 26.666667%, 26.666667%)\" stroke-opacity=\"1\" stroke-miterlimit=\"10\" d=\"M 231.050781 318.773438 L 203.984375 215.425781 \"/>\n",
       "<path fill=\"none\" stroke-width=\"0.5\" stroke-linecap=\"butt\" stroke-linejoin=\"miter\" stroke=\"rgb(26.666667%, 26.666667%, 26.666667%)\" stroke-opacity=\"1\" stroke-miterlimit=\"10\" d=\"M 129.34375 360 L 203.984375 215.425781 \"/>\n",
       "<path fill=\"none\" stroke-width=\"0.5\" stroke-linecap=\"butt\" stroke-linejoin=\"miter\" stroke=\"rgb(26.666667%, 26.666667%, 26.666667%)\" stroke-opacity=\"1\" stroke-miterlimit=\"10\" d=\"M 312.28125 172.902344 L 203.984375 215.425781 \"/>\n",
       "<path fill=\"none\" stroke-width=\"0.5\" stroke-linecap=\"butt\" stroke-linejoin=\"miter\" stroke=\"rgb(26.666667%, 26.666667%, 26.666667%)\" stroke-opacity=\"1\" stroke-miterlimit=\"10\" d=\"M 258.984375 60.015625 L 40 248.121094 \"/>\n",
       "<path fill=\"none\" stroke-width=\"0.5\" stroke-linecap=\"butt\" stroke-linejoin=\"miter\" stroke=\"rgb(26.666667%, 26.666667%, 26.666667%)\" stroke-opacity=\"1\" stroke-miterlimit=\"10\" d=\"M 231.050781 318.773438 L 40 248.121094 \"/>\n",
       "<path fill=\"none\" stroke-width=\"0.5\" stroke-linecap=\"butt\" stroke-linejoin=\"miter\" stroke=\"rgb(26.666667%, 26.666667%, 26.666667%)\" stroke-opacity=\"1\" stroke-miterlimit=\"10\" d=\"M 129.34375 360 L 40 248.121094 \"/>\n",
       "<path fill=\"none\" stroke-width=\"0.5\" stroke-linecap=\"butt\" stroke-linejoin=\"miter\" stroke=\"rgb(26.666667%, 26.666667%, 26.666667%)\" stroke-opacity=\"1\" stroke-miterlimit=\"10\" d=\"M 203.984375 215.425781 L 40 248.121094 \"/>\n",
       "<path fill=\"none\" stroke-width=\"0.5\" stroke-linecap=\"butt\" stroke-linejoin=\"miter\" stroke=\"rgb(26.666667%, 26.666667%, 26.666667%)\" stroke-opacity=\"1\" stroke-miterlimit=\"10\" d=\"M 258.984375 60.015625 L 123.503906 40 \"/>\n",
       "<path fill=\"none\" stroke-width=\"0.5\" stroke-linecap=\"butt\" stroke-linejoin=\"miter\" stroke=\"rgb(26.666667%, 26.666667%, 26.666667%)\" stroke-opacity=\"1\" stroke-miterlimit=\"10\" d=\"M 203.984375 215.425781 L 123.503906 40 \"/>\n",
       "<path fill=\"none\" stroke-width=\"0.5\" stroke-linecap=\"butt\" stroke-linejoin=\"miter\" stroke=\"rgb(26.666667%, 26.666667%, 26.666667%)\" stroke-opacity=\"1\" stroke-miterlimit=\"10\" d=\"M 231.050781 318.773438 L 360 314.230469 \"/>\n",
       "<path fill=\"none\" stroke-width=\"0.5\" stroke-linecap=\"butt\" stroke-linejoin=\"miter\" stroke=\"rgb(26.666667%, 26.666667%, 26.666667%)\" stroke-opacity=\"1\" stroke-miterlimit=\"10\" d=\"M 129.34375 360 L 360 314.230469 \"/>\n",
       "<path fill=\"none\" stroke-width=\"0.5\" stroke-linecap=\"butt\" stroke-linejoin=\"miter\" stroke=\"rgb(26.666667%, 26.666667%, 26.666667%)\" stroke-opacity=\"1\" stroke-miterlimit=\"10\" d=\"M 312.28125 172.902344 L 360 314.230469 \"/>\n",
       "<path fill=\"none\" stroke-width=\"0.5\" stroke-linecap=\"butt\" stroke-linejoin=\"miter\" stroke=\"rgb(26.666667%, 26.666667%, 26.666667%)\" stroke-opacity=\"1\" stroke-miterlimit=\"10\" d=\"M 203.984375 215.425781 L 360 314.230469 \"/>\n",
       "<path fill=\"none\" stroke-width=\"0.5\" stroke-linecap=\"butt\" stroke-linejoin=\"miter\" stroke=\"rgb(26.666667%, 26.666667%, 26.666667%)\" stroke-opacity=\"1\" stroke-miterlimit=\"10\" d=\"M 231.050781 318.773438 L 113.808594 197.953125 \"/>\n",
       "<path fill=\"none\" stroke-width=\"0.5\" stroke-linecap=\"butt\" stroke-linejoin=\"miter\" stroke=\"rgb(26.666667%, 26.666667%, 26.666667%)\" stroke-opacity=\"1\" stroke-miterlimit=\"10\" d=\"M 129.34375 360 L 113.808594 197.953125 \"/>\n",
       "<path fill=\"none\" stroke-width=\"0.5\" stroke-linecap=\"butt\" stroke-linejoin=\"miter\" stroke=\"rgb(26.666667%, 26.666667%, 26.666667%)\" stroke-opacity=\"1\" stroke-miterlimit=\"10\" d=\"M 312.28125 172.902344 L 113.808594 197.953125 \"/>\n",
       "<path fill=\"none\" stroke-width=\"0.5\" stroke-linecap=\"butt\" stroke-linejoin=\"miter\" stroke=\"rgb(26.666667%, 26.666667%, 26.666667%)\" stroke-opacity=\"1\" stroke-miterlimit=\"10\" d=\"M 203.984375 215.425781 L 113.808594 197.953125 \"/>\n",
       "<path fill=\"none\" stroke-width=\"0.5\" stroke-linecap=\"butt\" stroke-linejoin=\"miter\" stroke=\"rgb(26.666667%, 26.666667%, 26.666667%)\" stroke-opacity=\"1\" stroke-miterlimit=\"10\" d=\"M 40 248.121094 L 113.808594 197.953125 \"/>\n",
       "<path fill=\"none\" stroke-width=\"0.5\" stroke-linecap=\"butt\" stroke-linejoin=\"miter\" stroke=\"rgb(26.666667%, 26.666667%, 26.666667%)\" stroke-opacity=\"1\" stroke-miterlimit=\"10\" d=\"M 123.503906 40 L 113.808594 197.953125 \"/>\n",
       "<path fill=\"none\" stroke-width=\"0.5\" stroke-linecap=\"butt\" stroke-linejoin=\"miter\" stroke=\"rgb(26.666667%, 26.666667%, 26.666667%)\" stroke-opacity=\"1\" stroke-miterlimit=\"10\" d=\"M 312.28125 172.902344 L 43.679688 119.941406 \"/>\n",
       "<path fill=\"none\" stroke-width=\"0.5\" stroke-linecap=\"butt\" stroke-linejoin=\"miter\" stroke=\"rgb(26.666667%, 26.666667%, 26.666667%)\" stroke-opacity=\"1\" stroke-miterlimit=\"10\" d=\"M 203.984375 215.425781 L 43.679688 119.941406 \"/>\n",
       "<path fill=\"none\" stroke-width=\"0.5\" stroke-linecap=\"butt\" stroke-linejoin=\"miter\" stroke=\"rgb(26.666667%, 26.666667%, 26.666667%)\" stroke-opacity=\"1\" stroke-miterlimit=\"10\" d=\"M 40 248.121094 L 43.679688 119.941406 \"/>\n",
       "<path fill=\"none\" stroke-width=\"0.5\" stroke-linecap=\"butt\" stroke-linejoin=\"miter\" stroke=\"rgb(26.666667%, 26.666667%, 26.666667%)\" stroke-opacity=\"1\" stroke-miterlimit=\"10\" d=\"M 123.503906 40 L 43.679688 119.941406 \"/>\n",
       "<path fill=\"none\" stroke-width=\"0.5\" stroke-linecap=\"butt\" stroke-linejoin=\"miter\" stroke=\"rgb(26.666667%, 26.666667%, 26.666667%)\" stroke-opacity=\"1\" stroke-miterlimit=\"10\" d=\"M 113.808594 197.953125 L 43.679688 119.941406 \"/>\n",
       "<path fill-rule=\"nonzero\" fill=\"rgb(100%, 0%, 0%)\" fill-opacity=\"1\" stroke-width=\"1\" stroke-linecap=\"butt\" stroke-linejoin=\"miter\" stroke=\"rgb(0%, 0%, 0%)\" stroke-opacity=\"1\" stroke-miterlimit=\"10\" d=\"M 263.984375 60.015625 C 263.984375 66.683594 253.984375 66.683594 253.984375 60.015625 C 253.984375 53.347656 263.984375 53.347656 263.984375 60.015625 \"/>\n",
       "<path fill-rule=\"nonzero\" fill=\"rgb(100%, 0%, 0%)\" fill-opacity=\"1\" stroke-width=\"1\" stroke-linecap=\"butt\" stroke-linejoin=\"miter\" stroke=\"rgb(0%, 0%, 0%)\" stroke-opacity=\"1\" stroke-miterlimit=\"10\" d=\"M 236.050781 318.773438 C 236.050781 325.4375 226.050781 325.4375 226.050781 318.773438 C 226.050781 312.105469 236.050781 312.105469 236.050781 318.773438 \"/>\n",
       "<path fill-rule=\"nonzero\" fill=\"rgb(100%, 0%, 0%)\" fill-opacity=\"1\" stroke-width=\"1\" stroke-linecap=\"butt\" stroke-linejoin=\"miter\" stroke=\"rgb(0%, 0%, 0%)\" stroke-opacity=\"1\" stroke-miterlimit=\"10\" d=\"M 134.34375 360 C 134.34375 366.667969 124.34375 366.667969 124.34375 360 C 124.34375 353.332031 134.34375 353.332031 134.34375 360 \"/>\n",
       "<path fill-rule=\"nonzero\" fill=\"rgb(100%, 0%, 0%)\" fill-opacity=\"1\" stroke-width=\"1\" stroke-linecap=\"butt\" stroke-linejoin=\"miter\" stroke=\"rgb(0%, 0%, 0%)\" stroke-opacity=\"1\" stroke-miterlimit=\"10\" d=\"M 317.28125 172.902344 C 317.28125 179.570312 307.28125 179.570312 307.28125 172.902344 C 307.28125 166.234375 317.28125 166.234375 317.28125 172.902344 \"/>\n",
       "<path fill-rule=\"nonzero\" fill=\"rgb(100%, 0%, 0%)\" fill-opacity=\"1\" stroke-width=\"1\" stroke-linecap=\"butt\" stroke-linejoin=\"miter\" stroke=\"rgb(0%, 0%, 0%)\" stroke-opacity=\"1\" stroke-miterlimit=\"10\" d=\"M 208.984375 215.425781 C 208.984375 222.089844 198.984375 222.089844 198.984375 215.425781 C 198.984375 208.757812 208.984375 208.757812 208.984375 215.425781 \"/>\n",
       "<path fill-rule=\"nonzero\" fill=\"rgb(100%, 0%, 0%)\" fill-opacity=\"1\" stroke-width=\"1\" stroke-linecap=\"butt\" stroke-linejoin=\"miter\" stroke=\"rgb(0%, 0%, 0%)\" stroke-opacity=\"1\" stroke-miterlimit=\"10\" d=\"M 45 248.121094 C 45 254.789062 35 254.789062 35 248.121094 C 35 241.457031 45 241.457031 45 248.121094 \"/>\n",
       "<path fill-rule=\"nonzero\" fill=\"rgb(100%, 0%, 0%)\" fill-opacity=\"1\" stroke-width=\"1\" stroke-linecap=\"butt\" stroke-linejoin=\"miter\" stroke=\"rgb(0%, 0%, 0%)\" stroke-opacity=\"1\" stroke-miterlimit=\"10\" d=\"M 128.503906 40 C 128.503906 46.667969 118.503906 46.667969 118.503906 40 C 118.503906 33.332031 128.503906 33.332031 128.503906 40 \"/>\n",
       "<path fill-rule=\"nonzero\" fill=\"rgb(100%, 0%, 0%)\" fill-opacity=\"1\" stroke-width=\"1\" stroke-linecap=\"butt\" stroke-linejoin=\"miter\" stroke=\"rgb(0%, 0%, 0%)\" stroke-opacity=\"1\" stroke-miterlimit=\"10\" d=\"M 365 314.230469 C 365 320.894531 355 320.894531 355 314.230469 C 355 307.5625 365 307.5625 365 314.230469 \"/>\n",
       "<path fill-rule=\"nonzero\" fill=\"rgb(100%, 0%, 0%)\" fill-opacity=\"1\" stroke-width=\"1\" stroke-linecap=\"butt\" stroke-linejoin=\"miter\" stroke=\"rgb(0%, 0%, 0%)\" stroke-opacity=\"1\" stroke-miterlimit=\"10\" d=\"M 118.808594 197.953125 C 118.808594 204.621094 108.808594 204.621094 108.808594 197.953125 C 108.808594 191.285156 118.808594 191.285156 118.808594 197.953125 \"/>\n",
       "<path fill-rule=\"nonzero\" fill=\"rgb(100%, 0%, 0%)\" fill-opacity=\"1\" stroke-width=\"1\" stroke-linecap=\"butt\" stroke-linejoin=\"miter\" stroke=\"rgb(0%, 0%, 0%)\" stroke-opacity=\"1\" stroke-miterlimit=\"10\" d=\"M 48.679688 119.941406 C 48.679688 126.605469 38.679688 126.605469 38.679688 119.941406 C 38.679688 113.273438 48.679688 113.273438 48.679688 119.941406 \"/>\n",
       "</svg>\n"
      ],
      "text/plain": [
       "<igraph.drawing.cairo.plot.CairoPlot at 0x77c304dd06e0>"
      ]
     },
     "execution_count": 13,
     "metadata": {
      "image/svg+xml": {
       "isolated": true
      }
     },
     "output_type": "execute_result"
    }
   ],
   "source": [
    "from graph_rl.graph.generator import ErdosRenyiGenerator\n",
    "\n",
    "\n",
    "sample_graph = ErdosRenyiGenerator(10, 0.5, directed=False, node_feature_dim=4, edge_feature_dim=2).generate()\n",
    "\n",
    "target_node = 9  # We want to reach node 9\n",
    "reward_func = ShortestPathReward(target_node=target_node)\n",
    "\n",
    "# Create environment\n",
    "env = GraphNavigationEnv(\n",
    "    graph=sample_graph,\n",
    "reward_function=reward_func,\n",
    "    max_steps=20,\n",
    "    transition_noise=0.1,  # 10% chance of random transition\n",
    "    render_mode='console',\n",
    "    observation_mode='dict'  # Use dict mode for easier debugging\n",
    ")\n",
    "\n",
    "obs, info = env.reset()\n",
    "print(obs)\n",
    "env.graph.plot()"
   ]
  },
  {
   "cell_type": "markdown",
   "metadata": {},
   "source": [
    "# Other Spaces\n",
    "\n",
    "## Vectorized Observation Space"
   ]
  },
  {
   "cell_type": "code",
   "execution_count": 14,
   "metadata": {},
   "outputs": [
    {
     "name": "stdout",
     "output_type": "stream",
     "text": [
      "[ 1.         -0.39210815 -1.46351495  0.29612028  0.26105527  5.\n",
      "  6.          7.          0.          0.          0.          0.\n",
      " -0.91942423  1.54993441  0.22745993  1.30714275  0.52194157  0.29698467\n",
      "  0.          0.          0.          0.          0.          0.\n",
      "  0.          0.          1.          1.          1.          0.\n",
      "  0.          0.          0.          1.          1.          1.\n",
      "  0.          0.          0.          0.        ]\n"
     ]
    },
    {
     "data": {
      "text/plain": [
       "(True, (40,), (40,))"
      ]
     },
     "execution_count": 14,
     "metadata": {},
     "output_type": "execute_result"
    }
   ],
   "source": [
    "from graph_rl.environment.wrapper import ObsVectorizeWrapper\n",
    "\n",
    "\n",
    "sample_graph = ErdosRenyiGenerator(10, 0.5, directed=False, node_feature_dim=4, edge_feature_dim=2).generate()\n",
    "\n",
    "target_node = 9  # We want to reach node 9\n",
    "reward_func = ShortestPathReward(target_node=target_node)\n",
    "\n",
    "# Create environment\n",
    "env = GraphNavigationEnv(\n",
    "    graph=sample_graph,\n",
    "    reward_function=reward_func,\n",
    "    max_steps=20,\n",
    "    transition_noise=0.1,  # 10% chance of random transition\n",
    "    render_mode='console',\n",
    "    observation_mode='dict'  # Use dict mode for easier debugging\n",
    ")\n",
    "env = ObsVectorizeWrapper(env)\n",
    "\n",
    "obs, info = env.reset()\n",
    "print(obs)\n",
    "env.observation_space.contains(obs), obs.shape, env.observation_space.shape"
   ]
  }
 ],
 "metadata": {
  "kernelspec": {
   "display_name": "rl",
   "language": "python",
   "name": "python3"
  },
  "language_info": {
   "codemirror_mode": {
    "name": "ipython",
    "version": 3
   },
   "file_extension": ".py",
   "mimetype": "text/x-python",
   "name": "python",
   "nbconvert_exporter": "python",
   "pygments_lexer": "ipython3",
   "version": "3.12.9"
  }
 },
 "nbformat": 4,
 "nbformat_minor": 2
}
